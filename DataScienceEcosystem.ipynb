{
 "cells": [
  {
   "cell_type": "markdown",
   "id": "fa8a0cf8-906e-4324-a8c0-8ed7174370fc",
   "metadata": {},
   "source": [
    "# Data Science Tools and Ecosystem"
   ]
  },
  {
   "cell_type": "markdown",
   "id": "7940e3e6-0701-4d33-8b43-6f2b7b076983",
   "metadata": {},
   "source": [
    "In this notebook, Data Science Tools and Ecosystem are summarized."
   ]
  },
  {
   "cell_type": "markdown",
   "id": "7705a17a-6264-4f23-82b4-87b503aae1f9",
   "metadata": {},
   "source": [
    "**Objectives:**\n",
    "- List popular languages for Data Science\n",
    "- List commonly used libraries used by Data Scientists include\n",
    "- Table of Data Science tools\n",
    "- Simple arithmetic expression to mutiply then add integers\n",
    "- Сonversion of hours to minutes"
   ]
  },
  {
   "cell_type": "markdown",
   "id": "39fc4563-5640-4fcd-a067-c49b44cd8aa1",
   "metadata": {},
   "source": [
    "Some of the popular languages that Data Scientists use are:\n",
    "1. Pyton\n",
    "2. R\n",
    "3. Java\n",
    "4. SQL\n",
    "5. Julia\n",
    "6. VBA (Visual Basic for Applications)\n",
    "7. Scala"
   ]
  },
  {
   "cell_type": "markdown",
   "id": "2cc79178-7436-41db-927f-ac3c93af800f",
   "metadata": {},
   "source": [
    "Some of the commonly used libraries used by Data Scientists include:\n",
    "1. Pandas\n",
    "2. NumPy\n",
    "3. Matplotlib\n",
    "4. Plotly\n",
    "5. H2O\n",
    "6. TensorFlow\n",
    "7. PyTorch"
   ]
  },
  {
   "cell_type": "markdown",
   "id": "fc706067-2d11-4f0a-bde1-445b42c16cfb",
   "metadata": {},
   "source": [
    "|Data Science Tools |\n",
    "|--------------------|\n",
    "|Jupyter Notebooks |\n",
    "|Hadoop |\n",
    "|RStudio |\n"
   ]
  },
  {
   "cell_type": "markdown",
   "id": "024645f4-f421-4c40-9c22-54c6a2250ecd",
   "metadata": {},
   "source": [
    "### Below are a few examples of evaluating arithmetic expressions in Python"
   ]
  },
  {
   "cell_type": "code",
   "execution_count": 14,
   "id": "3d064151-4304-4dc2-aa50-24b20943e43e",
   "metadata": {},
   "outputs": [
    {
     "data": {
      "text/plain": [
       "17"
      ]
     },
     "execution_count": 14,
     "metadata": {},
     "output_type": "execute_result"
    }
   ],
   "source": [
    "(3*4)+5\n",
    "# This a simple arithmetic expression to mutiply then add integers"
   ]
  },
  {
   "cell_type": "code",
   "execution_count": 20,
   "id": "1b106e70-200e-45d1-94bb-973b2906dedf",
   "metadata": {},
   "outputs": [
    {
     "data": {
      "text/plain": [
       "3.3333333333333335"
      ]
     },
     "execution_count": 20,
     "metadata": {},
     "output_type": "execute_result"
    }
   ],
   "source": [
    "200/60\n",
    "# This will convert 200 minutes to hours by diving by 60"
   ]
  },
  {
   "cell_type": "markdown",
   "id": "6c5c56c2-5046-48e5-8d18-4394aed3b39a",
   "metadata": {},
   "source": [
    "## Author\n",
    "Alexander Koshovenko"
   ]
  },
  {
   "cell_type": "code",
   "execution_count": null,
   "id": "26de0752-ac09-4fe3-b17e-e208e7b0c7b2",
   "metadata": {},
   "outputs": [],
   "source": []
  }
 ],
 "metadata": {
  "kernelspec": {
   "display_name": "Python 3 (ipykernel)",
   "language": "python",
   "name": "python3"
  },
  "language_info": {
   "codemirror_mode": {
    "name": "ipython",
    "version": 3
   },
   "file_extension": ".py",
   "mimetype": "text/x-python",
   "name": "python",
   "nbconvert_exporter": "python",
   "pygments_lexer": "ipython3",
   "version": "3.12.7"
  }
 },
 "nbformat": 4,
 "nbformat_minor": 5
}
